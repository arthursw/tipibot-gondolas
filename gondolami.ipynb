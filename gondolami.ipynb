{
 "cells": [
  {
   "cell_type": "code",
   "execution_count": 1,
   "id": "1beee89f-5aea-47db-a8a2-ca6bc389d69c",
   "metadata": {},
   "outputs": [
    {
     "name": "stdout",
     "output_type": "stream",
     "text": [
      "Overwriting auto display for cadquery Workplane and Shape\n"
     ]
    },
    {
     "data": {
      "text/html": [
       "<style>\n",
       ".scroll-area {\n",
       "    overflow: scroll !important;\n",
       "    border: unset !important;\n",
       "}\n",
       "\n",
       ".mac-scrollbar::-webkit-scrollbar {\n",
       "    width: 5px !important;\n",
       "    height: 5px !important;\n",
       "}\n",
       "\n",
       ".mac-scrollbar::-webkit-scrollbar-track {\n",
       "    background-color: transparent !important;\n",
       "}\n",
       "\n",
       ".mac-scrollbar .widget-html-content {\n",
       "    overflow-x: visible;\n",
       "    overflow-y: visible;\n",
       "}\n",
       "\n",
       ".tab-content-no-padding .widget-tab-contents {\n",
       "    overflow-x: visible !important;\n",
       "    overflow-y: visible !important;\n",
       "    padding-bottom: 0px !important;\n",
       "}\n",
       "\n",
       ".view_renderer {\n",
       "    border: 1px solid var(--jp-border-color1);\n",
       "    margin-top: 3px;\n",
       "    margin-left: 2px;\n",
       "}\n",
       "\n",
       ".view_tree {\n",
       "    padding: 0px !important;\n",
       "}\n",
       "\n",
       ".view_axes {\n",
       "    width: 60px !important;\n",
       "    margin-left: 5px !important;\n",
       "}\n",
       "\n",
       ".view_zero {\n",
       "    width: 55px !important;\n",
       "}\n",
       "\n",
       ".view_grid {\n",
       "    width: 56px !important;\n",
       "}\n",
       "\n",
       ".view_ortho {\n",
       "    width: 64px !important;\n",
       "}\n",
       "\n",
       ".view_transparent {\n",
       "    width: 125px !important;\n",
       "}\n",
       "\n",
       ".view_black_edges {\n",
       "    width: 105px !important;\n",
       "}\n",
       "\n",
       ".view_button {\n",
       "    padding: 0px !important;\n",
       "}\n",
       "\n",
       ".view_button>img {\n",
       "    height: 28px;\n",
       "    width: 36px;\n",
       "}\n",
       "\n",
       ".node_entry_wrap {\n",
       "    white-space: pre;\n",
       "}\n",
       "\n",
       ".node_entry {\n",
       "    white-space: nowrap;\n",
       "    padding-top: 4px;\n",
       "}\n",
       "\n",
       ".t-caret {\n",
       "    cursor: pointer;\n",
       "    -webkit-user-select: none;\n",
       "    /* Safari 3.1+ */\n",
       "    -moz-user-select: none;\n",
       "    /* Firefox 2+ */\n",
       "    -ms-user-select: none;\n",
       "    /* IE 10+ */\n",
       "    user-select: none;\n",
       "}\n",
       "\n",
       ".t-caret-down::before {\n",
       "    -ms-transform: rotate(90deg);\n",
       "    /* IE 9 */\n",
       "    -webkit-transform: rotate(90deg);\n",
       "    /* Safari */\n",
       "    transform: rotate(90deg);\n",
       "}\n",
       "\n",
       ".toplevel {\n",
       "    list-style-type: none;\n",
       "    padding-inline-start: 0px;\n",
       "}\n",
       "\n",
       ".nested {\n",
       "    display: none;\n",
       "    list-style-type: none;\n",
       "    padding-inline-start: 16px;\n",
       "}\n",
       "\n",
       ".active {\n",
       "    display: block;\n",
       "}\n",
       "\n",
       ".icon {\n",
       "    width: 28px !important;\n",
       "    height: 22px !important;\n",
       "    padding-right: 2px;\n",
       "    vertical-align: middle;\n",
       "}\n",
       "\n",
       ".indent {\n",
       "    margin-left: 12px;\n",
       "}\n",
       "\n",
       ".tree_label {\n",
       "    padding-left: 2px;\n",
       "    font-size: 14px;\n",
       "}\n",
       "\n",
       ".scroll_down {\n",
       "    display: flex;\n",
       "    flex-direction: column-reverse;\n",
       "}\n",
       "\n",
       ".small_table {\n",
       "    line-height: 14px;\n",
       "}\n",
       "\n",
       ".monospace select {\n",
       "    font-family: monospace;\n",
       "}\n",
       "\n",
       "        .t-caret::before {\n",
       "            content: u\"▶\";\n",
       "            font-size: 12px;\n",
       "            color: \"#080808\";\n",
       "            display: inline-block;\n",
       "            margin-right: 2px;\n",
       "        }\n",
       "\n",
       "        .mac-scrollbar::-webkit-scrollbar-thumb {\n",
       "            background-color: rgba(0, 0, 0, 0.2) !important;\n",
       "            border-radius: 100px !important;\n",
       "        }\n",
       "\n",
       "        .mac-scrollbar::-webkit-scrollbar-thumb:hover {\n",
       "            background: rgba(0, 0, 0, 0.4) !important;\n",
       "        }\n",
       "\n",
       "        .mac-scrollbar::-webkit-scrollbar-thumb:active {\n",
       "            background: #181818 !important;\n",
       "        }\n",
       "\n",
       "        .mac-scrollbar::-webkit-scrollbar-corner {\n",
       "            background: white;\n",
       "        }\n",
       "\n",
       "        .view_output {\n",
       "            border: 1px solid var(--jp-border-color1);\n",
       "            margin: 2px 2px 2px 2px !important;\n",
       "            padding-right: 1px !important;\n",
       "            background-color: white;\n",
       "        }\n",
       "    </style>"
      ],
      "text/plain": [
       "<IPython.core.display.HTML object>"
      ]
     },
     "metadata": {},
     "output_type": "display_data"
    }
   ],
   "source": [
    "import cadquery as cq\n",
    "from cadquery import Vector as V\n",
    "from cadquery import Location as L\n",
    "from cadquery import Color as C\n",
    "from jupyter_cadquery.cadquery import (PartGroup, Part, Edges, Faces, Vertices, show)\n",
    "from jupyter_cadquery import set_sidecar, set_defaults\n",
    "from cadquery import exporters\n",
    "from cadquery import importers\n",
    "import random\n",
    "\n",
    "set_defaults(axes=False, grid=True, axes0=True, ortho=True, transparent=True)\n",
    "set_sidecar(\"Gondolami\", init=True)\n"
   ]
  },
  {
   "cell_type": "markdown",
   "id": "84557b28-4155-4201-9352-85e8e5a8a231",
   "metadata": {},
   "source": [
    "TODO:\n",
    "\n",
    "- point88\n",
    "- top links\n",
    "- wheel servo holder & gears\n",
    "- point88 attachements\n",
    "- front/back servo\n",
    "- double caster\n",
    "- wings\n",
    "- solenoid\n",
    "- marbles\n",
    "- target pens\n",
    "- weights\n"
   ]
  },
  {
   "cell_type": "code",
   "execution_count": 2,
   "id": "55929272-c238-48a4-8d61-b0d62362b6ee",
   "metadata": {},
   "outputs": [],
   "source": [
    "import math\n",
    "\n",
    "def hexagon_h_to_r(h):\n",
    "    return h * 2 / math.sqrt(3)\n",
    "\n",
    "def hexagon_r_to_h(r):\n",
    "    return r * math.sqrt(3) / 2"
   ]
  },
  {
   "cell_type": "code",
   "execution_count": 15,
   "id": "36a73288-5d1f-47c6-b839-67d9d3c45131",
   "metadata": {},
   "outputs": [],
   "source": [
    "gondola_outer_diameter = 200\n",
    "gondola_length = 200\n",
    "arc_width = 25\n",
    "rail_thickness = 5\n",
    "thickness = 3\n"
   ]
  },
  {
   "cell_type": "code",
   "execution_count": 50,
   "id": "1998757c-c2cb-4633-bd73-f9b89334e509",
   "metadata": {},
   "outputs": [],
   "source": [
    "\n",
    "frontRingIn = (cq.Workplane('XY')\n",
    "    .circle(gondola_outer_diameter/2)\n",
    "    .circle((gondola_outer_diameter)/2-arc_width)\n",
    "    .extrude(thickness))\n",
    "frontRingIn.name = 'frontRingIn'\n",
    "\n",
    "frontRingOut = (cq.Workplane('XY')\n",
    "    .circle(gondola_outer_diameter/2-rail_thickness)\n",
    "    .circle((gondola_outer_diameter)/2-arc_width+rail_thickness)\n",
    "    .extrude(thickness))\n",
    "\n",
    "link = cq.Workplane('XY').rect(arc_width, gondola_length).extrude(thickness)\n",
    "\n",
    "m10_nut_width = 10\n",
    "axe_diameter = 10\n",
    "axe_length = gondola_length + 2 * m10_nut_width\n",
    "axe = cq.Workplane('XZ').circle(axe_diameter/2).extrude(axe_length).translate(V(0, axe_length/2, 0))\n",
    "\n"
   ]
  },
  {
   "cell_type": "code",
   "execution_count": 25,
   "id": "eeaf9151-bea6-4864-b33e-e552ae663f46",
   "metadata": {},
   "outputs": [],
   "source": [
    "from cadquery import importers\n",
    "pens = importers.importStep('pens.step')"
   ]
  },
  {
   "cell_type": "code",
   "execution_count": 87,
   "id": "0fda5ba7-8822-457a-a1c6-1770189cc975",
   "metadata": {},
   "outputs": [
    {
     "ename": "AttributeError",
     "evalue": "'Vector' object has no attribute 'zDir'",
     "output_type": "error",
     "traceback": [
      "\u001b[0;31m---------------------------------------------------------------------------\u001b[0m",
      "\u001b[0;31mAttributeError\u001b[0m                            Traceback (most recent call last)",
      "\u001b[0;32m<ipython-input-87-518efe663438>\u001b[0m in \u001b[0;36m<module>\u001b[0;34m\u001b[0m\n\u001b[1;32m     18\u001b[0m     \u001b[0;34m.\u001b[0m\u001b[0madd\u001b[0m\u001b[0;34m(\u001b[0m\u001b[0mpoint88\u001b[0m\u001b[0;34m,\u001b[0m \u001b[0mloc\u001b[0m\u001b[0;34m=\u001b[0m\u001b[0mL\u001b[0m\u001b[0;34m(\u001b[0m\u001b[0mV\u001b[0m\u001b[0;34m(\u001b[0m\u001b[0;36m0\u001b[0m\u001b[0;34m,\u001b[0m \u001b[0mpoint88_length\u001b[0m\u001b[0;34m/\u001b[0m\u001b[0;36m2\u001b[0m\u001b[0;34m,\u001b[0m \u001b[0;36m0\u001b[0m\u001b[0;34m)\u001b[0m\u001b[0;34m)\u001b[0m\u001b[0;34m,\u001b[0m \u001b[0mname\u001b[0m\u001b[0;34m=\u001b[0m\u001b[0;34m'point88'\u001b[0m\u001b[0;34m)\u001b[0m\u001b[0;34m\u001b[0m\u001b[0;34m\u001b[0m\u001b[0m\n\u001b[1;32m     19\u001b[0m     \u001b[0;34m.\u001b[0m\u001b[0madd\u001b[0m\u001b[0;34m(\u001b[0m\u001b[0mservo\u001b[0m\u001b[0;34m,\u001b[0m \u001b[0mloc\u001b[0m\u001b[0;34m=\u001b[0m\u001b[0mL\u001b[0m\u001b[0;34m(\u001b[0m\u001b[0mV\u001b[0m\u001b[0;34m(\u001b[0m\u001b[0;36m0\u001b[0m\u001b[0;34m,\u001b[0m \u001b[0;36m0\u001b[0m\u001b[0;34m,\u001b[0m \u001b[0;36m0\u001b[0m\u001b[0;34m)\u001b[0m\u001b[0;34m,\u001b[0m \u001b[0mV\u001b[0m\u001b[0;34m(\u001b[0m\u001b[0;36m1\u001b[0m\u001b[0;34m,\u001b[0m \u001b[0;36m0\u001b[0m\u001b[0;34m,\u001b[0m \u001b[0;36m0\u001b[0m\u001b[0;34m)\u001b[0m\u001b[0;34m,\u001b[0m \u001b[0;36m90\u001b[0m\u001b[0;34m)\u001b[0m\u001b[0;34m,\u001b[0m \u001b[0mname\u001b[0m\u001b[0;34m=\u001b[0m\u001b[0;34m'servo'\u001b[0m\u001b[0;34m)\u001b[0m\u001b[0;34m\u001b[0m\u001b[0;34m\u001b[0m\u001b[0m\n\u001b[0;32m---> 20\u001b[0;31m     \u001b[0;34m.\u001b[0m\u001b[0madd\u001b[0m\u001b[0;34m(\u001b[0m\u001b[0mwheel_gears\u001b[0m\u001b[0;34m,\u001b[0m \u001b[0mloc\u001b[0m\u001b[0;34m=\u001b[0m\u001b[0mL\u001b[0m\u001b[0;34m(\u001b[0m\u001b[0mV\u001b[0m\u001b[0;34m(\u001b[0m\u001b[0;36m0\u001b[0m\u001b[0;34m,\u001b[0m \u001b[0;36m0\u001b[0m\u001b[0;34m,\u001b[0m \u001b[0;36m0\u001b[0m\u001b[0;34m)\u001b[0m\u001b[0;34m,\u001b[0m \u001b[0mV\u001b[0m\u001b[0;34m(\u001b[0m\u001b[0;36m1\u001b[0m\u001b[0;34m,\u001b[0m \u001b[0;36m1\u001b[0m\u001b[0;34m,\u001b[0m \u001b[0;36m0\u001b[0m\u001b[0;34m)\u001b[0m\u001b[0;34m)\u001b[0m\u001b[0;34m,\u001b[0m \u001b[0mname\u001b[0m\u001b[0;34m=\u001b[0m\u001b[0;34m'wheel_gears'\u001b[0m\u001b[0;34m)\u001b[0m\u001b[0;34m\u001b[0m\u001b[0;34m\u001b[0m\u001b[0m\n\u001b[0m\u001b[1;32m     21\u001b[0m     \u001b[0;31m#.add(pens, loc=L(V(0, 0, 0)), name='point88s')\u001b[0m\u001b[0;34m\u001b[0m\u001b[0;34m\u001b[0m\u001b[0;34m\u001b[0m\u001b[0m\n\u001b[1;32m     22\u001b[0m )\n",
      "\u001b[0;32m~/miniconda3/envs/cadquery/lib/python3.9/site-packages/cadquery/occ_impl/geom.py\u001b[0m in \u001b[0;36m__init__\u001b[0;34m(self, *args)\u001b[0m\n\u001b[1;32m    957\u001b[0m         \u001b[0;32melif\u001b[0m \u001b[0mlen\u001b[0m\u001b[0;34m(\u001b[0m\u001b[0margs\u001b[0m\u001b[0;34m)\u001b[0m \u001b[0;34m==\u001b[0m \u001b[0;36m2\u001b[0m\u001b[0;34m:\u001b[0m\u001b[0;34m\u001b[0m\u001b[0;34m\u001b[0m\u001b[0m\n\u001b[1;32m    958\u001b[0m             \u001b[0mt\u001b[0m\u001b[0;34m,\u001b[0m \u001b[0mv\u001b[0m \u001b[0;34m=\u001b[0m \u001b[0margs\u001b[0m\u001b[0;34m\u001b[0m\u001b[0;34m\u001b[0m\u001b[0m\n\u001b[0;32m--> 959\u001b[0;31m             \u001b[0mcs\u001b[0m \u001b[0;34m=\u001b[0m \u001b[0mgp_Ax3\u001b[0m\u001b[0;34m(\u001b[0m\u001b[0mv\u001b[0m\u001b[0;34m.\u001b[0m\u001b[0mtoPnt\u001b[0m\u001b[0;34m(\u001b[0m\u001b[0;34m)\u001b[0m\u001b[0;34m,\u001b[0m \u001b[0mt\u001b[0m\u001b[0;34m.\u001b[0m\u001b[0mzDir\u001b[0m\u001b[0;34m.\u001b[0m\u001b[0mtoDir\u001b[0m\u001b[0;34m(\u001b[0m\u001b[0;34m)\u001b[0m\u001b[0;34m,\u001b[0m \u001b[0mt\u001b[0m\u001b[0;34m.\u001b[0m\u001b[0mxDir\u001b[0m\u001b[0;34m.\u001b[0m\u001b[0mtoDir\u001b[0m\u001b[0;34m(\u001b[0m\u001b[0;34m)\u001b[0m\u001b[0;34m)\u001b[0m\u001b[0;34m\u001b[0m\u001b[0;34m\u001b[0m\u001b[0m\n\u001b[0m\u001b[1;32m    960\u001b[0m             \u001b[0mT\u001b[0m\u001b[0;34m.\u001b[0m\u001b[0mSetTransformation\u001b[0m\u001b[0;34m(\u001b[0m\u001b[0mcs\u001b[0m\u001b[0;34m)\u001b[0m\u001b[0;34m\u001b[0m\u001b[0;34m\u001b[0m\u001b[0m\n\u001b[1;32m    961\u001b[0m             \u001b[0mT\u001b[0m\u001b[0;34m.\u001b[0m\u001b[0mInvert\u001b[0m\u001b[0;34m(\u001b[0m\u001b[0;34m)\u001b[0m\u001b[0;34m\u001b[0m\u001b[0;34m\u001b[0m\u001b[0m\n",
      "\u001b[0;31mAttributeError\u001b[0m: 'Vector' object has no attribute 'zDir'"
     ]
    }
   ],
   "source": [
    "center_to_mid_arc = (gondola_outer_diameter-arc_width)/2\n",
    "wheel_center = -center_to_mid_arc\n",
    "\n",
    "front_wheel_offset = 50\n",
    "back_wheel_offset = 50\n",
    "\n",
    "assembly = (\n",
    "    cq.Assembly(name='gondolami')\n",
    "    .add(frontRingIn, loc=L(V(0, gondola_length/2, 0), V(1,0,0), 90), color=C(\"green\"), name='back_ring_in')\n",
    "    .add(frontRingIn, loc=L(V(0, -gondola_length/2, 0), V(1,0,0), 90), color=C(\"red\"), name='front_ring_in')\n",
    "    .add(frontRingOut, loc=L(V(0, gondola_length/2 + thickness, 0), V(1,0,0), 90), color=C(\"green\"), name='back_ring_out')\n",
    "    .add(frontRingOut, loc=L(V(0, -gondola_length/2 - thickness, 0), V(1,0,0), 90), color=C(\"red\"), name='front_ring_out')\n",
    "    .add(wheel, loc=L(V(0, gondola_length/2 - back_wheel_offset, wheel_center), V(1,0,0), 90), name='back_wheel')\n",
    "    .add(wheel, loc=L(V(0, -gondola_length/2 + front_wheel_offset, wheel_center), V(1,0,0), 90), name='front_wheel')\n",
    "    .add(link, loc=L(V(center_to_mid_arc, 0, 0)), color=C(\"yellow\"), name='link')\n",
    "    .add(link, loc=L(V(-center_to_mid_arc, 0, 0)), color=C(\"yellow\"), name='link2')\n",
    "    .add(axe, loc=L(V(0, 0, wheel_center)), color=C(\"blue\"), name='axe')\n",
    "    .add(point88, loc=L(V(0, point88_length/2, 0)), name='point88')\n",
    "    .add(servo, loc=L(V(0, 0, 0), V(1, 0, 0), 90), name='servo')\n",
    "    .add(wheel_gears, loc=L(V(0, 0, 0), V(1, 1, 0)), name='wheel_gears')\n",
    "    #.add(pens, loc=L(V(0, 0, 0)), name='point88s')\n",
    ")\n",
    "assembly"
   ]
  },
  {
   "cell_type": "code",
   "execution_count": 49,
   "id": "cbe8c9c7-a720-447b-b40a-04912aaf9ff7",
   "metadata": {},
   "outputs": [
    {
     "name": "stdout",
     "output_type": "stream",
     "text": [
      "Done, using side car 'Gondolami'\n"
     ]
    }
   ],
   "source": [
    "assembly.add(pens, loc=L(V(0, 0, 0)), name='point88s')\n",
    "assembly"
   ]
  },
  {
   "cell_type": "markdown",
   "id": "0db96fa6-3978-4a45-8af2-c4d3643ca0d3",
   "metadata": {},
   "source": [
    "![servo](http://sc01.alicdn.com/kf/HTB137beFVXXXXb7XXXXq6xXFXXXP/221432382/HTB137beFVXXXXb7XXXXq6xXFXXXP.jpg_.webp)"
   ]
  },
  {
   "cell_type": "code",
   "execution_count": 75,
   "id": "d4188df0-b84c-4b13-bef1-832fd74e7f79",
   "metadata": {},
   "outputs": [
    {
     "name": "stdout",
     "output_type": "stream",
     "text": [
      "Done, using side car 'Gondolami'\n"
     ]
    }
   ],
   "source": [
    "offsetX = -49.5 / 2 + 34.65\n",
    "servo = (\n",
    "    cq.Workplane('XY')\n",
    "    .rect(40, 20).extrude(28.7)\n",
    "    .faces(\">Z\").workplane().rect(54.5, 20).extrude(2.5)\n",
    "    .faces(\">Z\").workplane().rect(49.5, 10, forConstruction=True).vertices().hole(5.0 )\n",
    "    .faces(\">Z\").workplane().rect(40,20).extrude(37.0-2.5-28.7)\n",
    "    .faces(\">Z\").workplane().moveTo(offsetX, 0).circle(15/2.0).extrude(1.5)\n",
    "    .faces(\">Z\").workplane().moveTo(offsetX, 0).circle(10/2.0).extrude(1)\n",
    "    .faces(\">Z\").workplane().moveTo(offsetX, 0).circle(5/2.0).extrude(7.1-1.5-1)\n",
    ")\n",
    "servo"
   ]
  },
  {
   "cell_type": "code",
   "execution_count": 47,
   "id": "e6b110d3-c818-432c-bcd5-7e0d4669dc1b",
   "metadata": {},
   "outputs": [
    {
     "name": "stdout",
     "output_type": "stream",
     "text": [
      "Done, using side car 'Gondolami'\n"
     ]
    }
   ],
   "source": [
    "pens = cq.Assembly(name='pens')\n",
    "#pens = Workplane('XZ')\n",
    "\n",
    "posY = point88_length / 2\n",
    "for i in range(n_pens):\n",
    "    angle_deg = - i * 360.0 / float(n_pens) + 360.0 / 4.0\n",
    "    angle = i * 2.0 * math.pi / float(n_pens)\n",
    "    posX = center_to_mid_arc * math.cos(angle)\n",
    "    posZ = wheel_center + center_to_mid_arc * math.sin(angle)\n",
    "    pens.add(point88, loc=L(V(posX, posY, posZ), V(0, 1, 0), angle_deg), name=f'point88_{i}')\n",
    "    #pens += point88.translate(V(posX, posY, posZ))\n",
    "\n",
    "# exporters.export(pens, 'pens.step')\n",
    "\n",
    "pens"
   ]
  },
  {
   "cell_type": "code",
   "execution_count": null,
   "id": "720ed20b-fa33-425f-b2b5-b62dc04f8377",
   "metadata": {},
   "outputs": [],
   "source": []
  },
  {
   "cell_type": "code",
   "execution_count": 44,
   "id": "af4d0ec8-9610-45c3-b276-780c08db4f4d",
   "metadata": {},
   "outputs": [],
   "source": [
    "from cadquery import exporters\n",
    "\n",
    "\n",
    "exporters.export(\n",
    "            frontRing,\n",
    "            'frontRing.svg',\n",
    "            opt={\n",
    "                \"showAxes\": False,\n",
    "                \"projectionDir\": (0, 0, 1),\n",
    "                \"strokeWidth\": 0.25,\n",
    "                \"strokeColor\": (255, 0, 0),\n",
    "                \"hiddenColor\": (0, 0, 255),\n",
    "                \"showHidden\": True,\n",
    "            },\n",
    "        )"
   ]
  },
  {
   "cell_type": "code",
   "execution_count": 5,
   "id": "1b69cd67-f1d5-4b63-b51b-0bbc7e3e0ba2",
   "metadata": {},
   "outputs": [
    {
     "name": "stdout",
     "output_type": "stream",
     "text": [
      "Done, using side car 'Gondolami'\n"
     ]
    }
   ],
   "source": [
    "center_to_mid_arc = (gondola_outer_diameter-arc_width)/2\n",
    "m3 = 3\n",
    "wheel_thickness = 20\n",
    "wheel_radius = center_to_mid_arc + wheel_thickness / 2\n",
    "wheel_diameter = 2 * wheel_radius\n",
    "n_pens = 20\n",
    "n_spokes = 4\n",
    "spoke_width = 10\n",
    "inner_diameter = wheel_diameter - 2 * wheel_thickness\n",
    "\n",
    "point88_diameter = 8;\n",
    "point88_h = hexagon_r_to_h(point88_diameter / 2)\n",
    "\n",
    "spokes = cq.Workplane('XY').rect(inner_diameter, spoke_width).extrude(thickness)\n",
    "\n",
    "for i in range(int(n_spokes/2)):\n",
    "    spokes += cq.Workplane('XY').rect(inner_diameter, spoke_width).extrude(thickness).rotateAboutCenter(V(0,0,1), i*360/n_spokes)\n",
    "\n",
    "wheel = (cq.Workplane('XY')\n",
    "    .circle(wheel_diameter/2)\n",
    "    .circle(inner_diameter/2)\n",
    "    .polarArray(wheel_diameter/2-wheel_thickness/2, 0, 360, n_pens)\n",
    "    .polygon(6, point88_diameter)\n",
    "    .extrude(thickness))\n",
    "\n",
    "wheel += spokes\n",
    "\n",
    "wheel = wheel.faces('>Z').hole(m3)\n",
    "\n",
    "wheel"
   ]
  },
  {
   "cell_type": "code",
   "execution_count": 6,
   "id": "8ba6693d-05e3-4d73-a29a-5e36cb22ac44",
   "metadata": {},
   "outputs": [
    {
     "name": "stdout",
     "output_type": "stream",
     "text": [
      "10.0\n",
      "Done, using side car 'Gondolami'\n"
     ]
    }
   ],
   "source": [
    "from cadquery import Workplane, Edge, Wire, Vector\n",
    "from math import *\n",
    "\n",
    "#    r_ref = m*z/2\n",
    "#    r_ref = (p/pi)*z/2\n",
    "#    z = 2 * r_ref * pi / p\n",
    "#    z = 2 * r_ref * pi / p\n",
    "#    z = number of teeth\n",
    "\n",
    "# m = p / pi\n",
    "# p = m * pi\n",
    "\n",
    "def involute_gear(m, z, alpha=20, shift=0, N=20):\n",
    "    '''\n",
    "    See https://khkgears.net/new/gear_knowledge/gear_technical_reference/involute_gear_profile.html\n",
    "    for math\n",
    "    '''\n",
    "    \n",
    "    alpha = radians(alpha)\n",
    "\n",
    "    # radii\n",
    "    r_ref = m*z/2\n",
    "    r_top = r_ref + m*(1+shift)\n",
    "    r_base = r_ref*cos(alpha)\n",
    "    r_d = r_ref - 1.25*m\n",
    "    \n",
    "    inv = lambda a: tan(a) - a\n",
    "    \n",
    "    # angles of interest\n",
    "    alpha_inv = inv(alpha)\n",
    "    alpha_tip = acos(r_base/r_top)\n",
    "    alpha_tip_inv = inv(alpha_tip)\n",
    "    \n",
    "    a = 90/z+degrees(alpha_inv)\n",
    "    a2 = 90/z++degrees(alpha_inv)-degrees(alpha_tip_inv)\n",
    "    a3 = 360/z-a\n",
    "    \n",
    "    # involute curve (radius based parametrization)\n",
    "    def involute_curve(r_b,sign=1):\n",
    "        \n",
    "        def f(r):\n",
    "            alpha = sign*acos(r_b/r)\n",
    "            x = r*cos(tan(alpha) - alpha) \n",
    "            y = r*sin(tan(alpha) - alpha)\n",
    "        \n",
    "            return x,y\n",
    "        \n",
    "        return f\n",
    "    \n",
    "    # construct all the profiles\n",
    "    right = (\n",
    "        Workplane()\n",
    "        .transformed(rotate=(0,0,a))\n",
    "        .parametricCurve(involute_curve(r_base,-1), start=r_base, stop = r_top, makeWire=False, N=N)\n",
    "        .val()\n",
    "    )\n",
    "    \n",
    "    left = (\n",
    "        Workplane()\n",
    "        .transformed(rotate=(0,0,-a))\n",
    "        .parametricCurve(involute_curve(r_base), start=r_base, stop = r_top, makeWire=False, N=N)\n",
    "        .val()\n",
    "    )\n",
    "\n",
    "    top = Edge.makeCircle(r_top, angle1=-a2, angle2=a2)\n",
    "    bottom = Edge.makeCircle(r_d, angle1=-a3, angle2=-a)\n",
    "    \n",
    "    side = Edge.makeLine( cq.Vector(r_d,0), cq.Vector(r_base,0))\n",
    "    side1 = side.rotate(cq.Vector(0, 0, 0), cq.Vector(0, 0, 1), -a)\n",
    "    side2 = side.rotate(cq.Vector(0, 0, 0), cq.Vector(0, 0, 1), -a3)\n",
    "    \n",
    "    # single tooth profile\n",
    "    profile = Wire.assembleEdges([left,top,right,side1,bottom,side2])\n",
    "    profile = profile.chamfer2D(m/4, profile.Vertices()[-3:-1])\n",
    "\n",
    "    # complete gear\n",
    "    res = (\n",
    "        Workplane()\n",
    "        .polarArray(0,0,360,z)\n",
    "        .each(lambda loc: profile.located(loc))\n",
    "        .consolidateWires()\n",
    "    )\n",
    "\n",
    "    return res.val()\n",
    "\n",
    "# with gear_module = 1 (= pitch / math.pi) the gear diameter is equal \n",
    "# to the number of teeth!\n",
    "gear_module = 1\n",
    "gear_pitch = gear_module * math.pi\n",
    "gear_n_teeth = 20\n",
    "gear_ref_radius = gear_n_teeth * gear_module / 2\n",
    "print(gear_ref_radius)\n",
    "gear = Workplane(obj=involute_gear(gear_module, gear_n_teeth)).toPending().extrude(thickness)\n",
    "gear"
   ]
  },
  {
   "cell_type": "code",
   "execution_count": 76,
   "id": "a08ab889-11b1-4528-8ded-4ef64576b815",
   "metadata": {},
   "outputs": [
    {
     "name": "stdout",
     "output_type": "stream",
     "text": [
      "50\n",
      "25.0\n",
      "Done, using side car 'Gondolami'\n"
     ]
    }
   ],
   "source": [
    "gear_module = 1\n",
    "gear_pitch = gear_module * math.pi\n",
    "gear_wanted_diameter = 50\n",
    "gear_n_teeth = int((gear_wanted_diameter / 2) // (gear_module / 2))\n",
    "print(gear_n_teeth)\n",
    "gear_ref_radius = gear_n_teeth * gear_module / 2\n",
    "print(gear_ref_radius)\n",
    "wheel_gear = Workplane(obj=involute_gear(gear_module, gear_n_teeth)).toPending().extrude(thickness).faces(\">Z\").hole(10)\n",
    "wheel_gear"
   ]
  },
  {
   "cell_type": "code",
   "execution_count": 77,
   "id": "362d491e-2064-477e-bee3-3fc0d62366b0",
   "metadata": {},
   "outputs": [
    {
     "name": "stdout",
     "output_type": "stream",
     "text": [
      "25\n",
      "12.5\n",
      "Done, using side car 'Gondolami'\n"
     ]
    }
   ],
   "source": [
    "gear_wanted_diameter = 25\n",
    "gear_n_teeth = int((gear_wanted_diameter / 2) // (gear_module / 2))\n",
    "print(gear_n_teeth)\n",
    "gear_ref_radius = gear_n_teeth * gear_module / 2\n",
    "print(gear_ref_radius)\n",
    "wheel_servo_gear = Workplane(obj=involute_gear(gear_module, gear_n_teeth)).toPending().extrude(thickness).faces(\">Z\").hole(3)\n",
    "wheel_servo_gear"
   ]
  },
  {
   "cell_type": "code",
   "execution_count": 81,
   "id": "c7dcb18e-8953-4196-84c2-e99f4bb2ff47",
   "metadata": {},
   "outputs": [
    {
     "name": "stdout",
     "output_type": "stream",
     "text": [
      "Done, using side car 'Gondolami'\n"
     ]
    }
   ],
   "source": [
    "wheel_gears = cq.Assembly(name='wheel_gears')\n",
    "wheel_gears.add(wheel_gear, loc=L(V(0, 0, 0)), color=C(\"green\"), name='wheel_gear')\n",
    "wheel_gears.add(wheel_servo_gear, loc=L(V(50/2+25/2, 0, 0)), color=C(\"blue\"), name='wheel_servo_gear')\n",
    "wheel_gears"
   ]
  },
  {
   "cell_type": "code",
   "execution_count": 7,
   "id": "9eddb32e-52f3-44c4-bcaf-fd367047b140",
   "metadata": {},
   "outputs": [
    {
     "name": "stdout",
     "output_type": "stream",
     "text": [
      "Done, using side car 'Gondolami'\n"
     ]
    }
   ],
   "source": [
    "# Point88\n",
    "\n",
    "point88_length = 166\n",
    "point88_cap_length = 23\n",
    "point88_diameter = 8\n",
    "point88_h = hexagon_r_to_h(point88_diameter / 2)\n",
    "\n",
    "point88 = (\n",
    "    Workplane('XZ')\n",
    "    .polygon(6, point88_diameter).extrude(point88_length - point88_cap_length)\n",
    "    .faces('<Y')\n",
    "    .circle(point88_diameter/2-0.5).extrude(point88_cap_length - 5, taper=4)\n",
    "    .faces('<Y')\n",
    "    .circle(1).extrude(5, taper=4)\n",
    ")\n",
    "point88"
   ]
  },
  {
   "cell_type": "code",
   "execution_count": null,
   "id": "e98e2d06-f1a1-48dd-87f2-143bdd7d2a21",
   "metadata": {},
   "outputs": [],
   "source": []
  }
 ],
 "metadata": {
  "kernelspec": {
   "display_name": "jcv",
   "language": "python",
   "name": "jcv"
  },
  "language_info": {
   "codemirror_mode": {
    "name": "ipython",
    "version": 3
   },
   "file_extension": ".py",
   "mimetype": "text/x-python",
   "name": "python",
   "nbconvert_exporter": "python",
   "pygments_lexer": "ipython3",
   "version": "3.9.4"
  }
 },
 "nbformat": 4,
 "nbformat_minor": 5
}
